{
 "cells": [
  {
   "cell_type": "markdown",
   "id": "119fe145-3515-4e3c-af7a-1c3f62bf14ec",
   "metadata": {},
   "source": [
    "# Oficina de dados na disciplina de Modelagem Informacional\n",
    "\n",
    "## Oficina de dados de vacinação de covid com serviços da nuvem AWS\n",
    "\n",
    "### Desafio individual\n",
    "\n",
    "Ler os dados públicos de vacinação da covid-19 do seu estado e montar um indicador de percentual da população de vacinados por município. A projeção de população por município está no site do IBGE.\n",
    "\n",
    "### Recursos necessários\n",
    "\n",
    "Espaço de armazenamento e de processamento na nuvem da AWS (já disponível).\n",
    "Dados de vacinação do DATASUS (já disponível).\n",
    "Dados populacionais do IBGE.\n",
    "\n",
    "### Entrega\n",
    "\n",
    "- Procure problemas de qualidade nos seus dados e responda as perguntas abaixo:\n",
    "  - Existem registros repetidos?\n",
    "  - Existem pessoas que tomaram mais de 3 doses da vacina?\n",
    "  - A quantidade de vacinados na primeira dose é superior ou igual a quantidade na segunda?\n",
    "  - Descubra como fazer um JOIN entre as duas tabelas carregadas e monte uma tabela listando o nome do município, o respectivo código do IBGE, e o percentual da população vacinada por município.\n",
    "\n",
    "#### Bônus\n",
    "\n",
    "Apresentar e explicar qualquer visualização interessante dos seus dados. Se quiser, pode exportar e fazer no power BI.\n",
    "\n",
    "### Orientações gerais - fase 1\n",
    "\n",
    "Use a região padrão Norte de Virgínia.\n",
    "Sempre que tiver um campo perguntando sobre \"IAM Role\" escolha \"LabRole\".\n",
    "\n",
    "1. Iniciar o seu lab na sua conta AWS Academy no curso Learner Lab.\n",
    "2. Criar um bucket no S3 chamado cache-athena-<<número aleatório>>.\n",
    "3. Criar um bucket no S3 chamado oficina-<<número aleatório>>. Criar subpastas oficina-<<número aleatório>>/opendatasus/mg/, oficina-<<número aleatório>>/opendatasus/zonabruta/covid-vac-mg-1\n",
    "4. Criar um notebook no SageMaker com todas as opções padrão. Abrir este arquivo com o motor \"conda_pytorch_p310\".\n",
    "5. Fazer o download de um arquivo de vacinação da parte1 de MG https://opendatasus.saude.gov.br/dataset/covid-19-vacinacao\n",
    "6. Carregar no bucket S3 oficina-<<número aleatório>>.\n",
    "7. Usar o Glue para usar o CSV como uma tabela no formato AVRO no Athena.\n",
    "8. Brincar com análises básicas.\n",
    "9. Fazer download https://www.ibge.gov.br/estatisticas/sociais/populacao/9103-estimativas-de-populacao.html?=&t=downloads\n",
    "10. Carregar no S3 como uma nova tabela, seguindo passos similares aos da vacinação."
   ]
  },
  {
   "cell_type": "markdown",
   "id": "71868118-e109-41f8-a7e6-2251f6137488",
   "metadata": {},
   "source": [
    "### Ver espaço livre em disco\n",
    "\n",
    "Você vai precisar desse espaço para manipular os arquivos antes de subir ao S3. Vemos 48G livres."
   ]
  },
  {
   "cell_type": "code",
   "execution_count": 1,
   "id": "23ae5b8f-f9dd-4f88-9c98-7b11c717f66e",
   "metadata": {
    "tags": []
   },
   "outputs": [
    {
     "name": "stdout",
     "output_type": "stream",
     "text": [
      "Filesystem      Size  Used Avail Use% Mounted on\n",
      "devtmpfs        1.9G     0  1.9G   0% /dev\n",
      "tmpfs           1.9G     0  1.9G   0% /dev/shm\n",
      "tmpfs           1.9G  580K  1.9G   1% /run\n",
      "tmpfs           1.9G     0  1.9G   0% /sys/fs/cgroup\n",
      "/dev/nvme0n1p1  135G   88G   48G  65% /\n",
      "/dev/nvme1n1    4.8G  524K  4.6G   1% /home/ec2-user/SageMaker\n",
      "tmpfs           386M     0  386M   0% /run/user/1001\n",
      "tmpfs           386M     0  386M   0% /run/user/1002\n",
      "tmpfs           386M     0  386M   0% /run/user/1000\n"
     ]
    }
   ],
   "source": [
    "!df -h"
   ]
  },
  {
   "cell_type": "markdown",
   "id": "7f2fcc9d-5180-436b-8357-d74eff9a05dd",
   "metadata": {},
   "source": [
    "#### Download da parte 1 de MG no opendatasus\n",
    "\n",
    "Abra o portal https://opendatasus.saude.gov.br/dataset/covid-19-vacinacao e procure o arquivo, pois a URL muda de padrão diariamente.\n",
    "Abaixo:\n",
    "1. download para o \"/tmp\"\n",
    "2. validação \"ls...\"\n",
    "3. ver o cabeçalho do arquivo. Vemos um arquivo delimitado por aspas e separado por ';'\n",
    "4. copiar arquivo para bucket oficina-<<número aleatório>>/opendatasus/mg/"
   ]
  },
  {
   "cell_type": "code",
   "execution_count": 3,
   "id": "16321e6f-1090-4067-9e62-6058322373c7",
   "metadata": {
    "tags": []
   },
   "outputs": [
    {
     "name": "stdout",
     "output_type": "stream",
     "text": [
      "  % Total    % Received % Xferd  Average Speed   Time    Time     Time  Current\n",
      "                                 Dload  Upload   Total   Spent    Left  Speed\n",
      "100   243    0   243    0     0    655      0 --:--:-- --:--:-- --:--:--   656\n"
     ]
    }
   ],
   "source": [
    "!curl https://s3.sa-east-1.amazonaws.com/ckan.saude.gov.br/SIPNI/COVID/uf/uf%3DMG/part-00000-5580d8df-adc6-41ea-8887-eedaa63c1f78.c000.csv -o /tmp/covid-vac-mg-1.csv"
   ]
  },
  {
   "cell_type": "code",
   "execution_count": 5,
   "id": "0bcf4ec2-7cf3-4c44-b334-b80986f9a98a",
   "metadata": {
    "tags": []
   },
   "outputs": [
    {
     "name": "stdout",
     "output_type": "stream",
     "text": [
      "-rw-rw-r-- 1 ec2-user ec2-user 243 May 25 14:28 /tmp/covid-vac-mg-1.csv\n"
     ]
    }
   ],
   "source": [
    "!ls -lh /tmp/covid*"
   ]
  },
  {
   "cell_type": "code",
   "execution_count": 6,
   "id": "a38e86c9-49d5-45d2-a1f5-94c8c7186e8a",
   "metadata": {
    "tags": []
   },
   "outputs": [
    {
     "name": "stdout",
     "output_type": "stream",
     "text": [
      "<?xml version=\"1.0\" encoding=\"UTF-8\"?>\n",
      "<Error><Code>AccessDenied</Code><Message>Access Denied</Message><RequestId>6JCWQM5PH2RJK4MM</RequestId><HostId>xW9haAI2pc3RSNgCROaIEez+8hcW44L0WMrl438vTFyc75UDyzzrWbIT7ieY1ia5M4mLRS053Ak=</HostId></Error>"
     ]
    }
   ],
   "source": [
    "!head -n 3 /tmp/covid-vac-mg-1.csv"
   ]
  },
  {
   "cell_type": "code",
   "execution_count": null,
   "id": "a3058d50-a035-4fd3-b9fc-e0e040c9b960",
   "metadata": {
    "tags": []
   },
   "outputs": [],
   "source": [
    "file_name = \"/tmp/covid-vac-mg-1.csv\"\n",
    "\n",
    "import boto3\n",
    "\n",
    "s3 = boto3.resource('s3')\n",
    "s3.meta.client.upload_file(file_name, 'oficina-17045', 'opendatasus/mg/covid-vac-mg-1.csv')"
   ]
  },
  {
   "cell_type": "markdown",
   "id": "62080ed3-067a-44dd-baa9-6f372a8ee01b",
   "metadata": {},
   "source": [
    "### Orientações gerais - fase 2\n",
    "\n",
    "#### Catalogar no Glue\n",
    "\n",
    "1. Abrir AWS Glue\n",
    "2. Criar database oficina\n",
    "3. Criar tabela oficina.forma-vazia-covid-vac-mg-1 em s3://oficina-0973/opendatasus/zonabruta/covid-vac-mg-1 e colar o esquema json abaixo, escolher o formato 'avro'\n",
    "4. Novo visual ETL, origem = S3 bucket apontando para oficina-0973/opendatasus/mg/covid-vac-mg-1.csv\n",
    "5. Ainda no ETL, destino = AWS Glue data catalog apontando para a tabela vazia criada em (3), rodar o job, certifique-e de escolher \"Update schema and add new partitions\"\n",
    "6. Criar um novo crawler para ler o local s3://oficina-0973/opendatasus/zonabruta/covid-vac-mg-1\n",
    "\n",
    "Você terá uma nova tabela \"oficina\".\"covid-vac-mg-1\"."
   ]
  },
  {
   "cell_type": "markdown",
   "id": "33c67429-e651-4627-9c80-6491554acbd0",
   "metadata": {
    "jp-MarkdownHeadingCollapsed": true,
    "tags": []
   },
   "source": [
    "##### Tabela de vacinação em formato json:\n",
    "\n",
    "[\n",
    "  {\n",
    "    \"Name\": \"document_id\",\n",
    "    \"Type\": \"string\"\n",
    "  },\n",
    "  {\n",
    "    \"Name\": \"paciente_id\",\n",
    "    \"Type\": \"string\"\n",
    "  },\n",
    "  {\n",
    "    \"Name\": \"paciente_idade\",\n",
    "    \"Type\": \"bigint\"\n",
    "  },\n",
    "  {\n",
    "    \"Name\": \"paciente_datanascimento\",\n",
    "    \"Type\": \"string\"\n",
    "  },\n",
    "  {\n",
    "    \"Name\": \"paciente_enumsexobiologico\",\n",
    "    \"Type\": \"string\"\n",
    "  },\n",
    "  {\n",
    "    \"Name\": \"paciente_racacor_codigo\",\n",
    "    \"Type\": \"bigint\"\n",
    "  },\n",
    "  {\n",
    "    \"Name\": \"paciente_racacor_valor\",\n",
    "    \"Type\": \"string\"\n",
    "  },\n",
    "  {\n",
    "    \"Name\": \"paciente_endereco_coibgemunicipio\",\n",
    "    \"Type\": \"bigint\"\n",
    "  },\n",
    "  {\n",
    "    \"Name\": \"paciente_endereco_copais\",\n",
    "    \"Type\": \"bigint\"\n",
    "  },\n",
    "  {\n",
    "    \"Name\": \"paciente_endereco_nmmunicipio\",\n",
    "    \"Type\": \"string\"\n",
    "  },\n",
    "  {\n",
    "    \"Name\": \"paciente_endereco_nmpais\",\n",
    "    \"Type\": \"string\"\n",
    "  },\n",
    "  {\n",
    "    \"Name\": \"paciente_endereco_uf\",\n",
    "    \"Type\": \"string\"\n",
    "  },\n",
    "  {\n",
    "    \"Name\": \"paciente_endereco_cep\",\n",
    "    \"Type\": \"bigint\"\n",
    "  },\n",
    "  {\n",
    "    \"Name\": \"paciente_nacionalidade_enumnacionalidade\",\n",
    "    \"Type\": \"string\"\n",
    "  },\n",
    "  {\n",
    "    \"Name\": \"estabelecimento_valor\",\n",
    "    \"Type\": \"bigint\"\n",
    "  },\n",
    "  {\n",
    "    \"Name\": \"estabelecimento_razaosocial\",\n",
    "    \"Type\": \"string\"\n",
    "  },\n",
    "  {\n",
    "    \"Name\": \"estalecimento_nofantasia\",\n",
    "    \"Type\": \"string\"\n",
    "  },\n",
    "  {\n",
    "    \"Name\": \"estabelecimento_municipio_codigo\",\n",
    "    \"Type\": \"bigint\"\n",
    "  },\n",
    "  {\n",
    "    \"Name\": \"estabelecimento_municipio_nome\",\n",
    "    \"Type\": \"string\"\n",
    "  },\n",
    "  {\n",
    "    \"Name\": \"estabelecimento_uf\",\n",
    "    \"Type\": \"string\"\n",
    "  },\n",
    "  {\n",
    "    \"Name\": \"vacina_grupoatendimento_codigo\",\n",
    "    \"Type\": \"bigint\"\n",
    "  },\n",
    "  {\n",
    "    \"Name\": \"vacina_grupoatendimento_nome\",\n",
    "    \"Type\": \"string\"\n",
    "  },\n",
    "  {\n",
    "    \"Name\": \"vacina_categoria_codigo\",\n",
    "    \"Type\": \"bigint\"\n",
    "  },\n",
    "  {\n",
    "    \"Name\": \"vacina_categoria_nome\",\n",
    "    \"Type\": \"string\"\n",
    "  },\n",
    "  {\n",
    "    \"Name\": \"vacina_lote\",\n",
    "    \"Type\": \"string\"\n",
    "  },\n",
    "  {\n",
    "    \"Name\": \"vacina_fabricante_nome\",\n",
    "    \"Type\": \"string\"\n",
    "  },\n",
    "  {\n",
    "    \"Name\": \"vacina_fabricante_referencia\",\n",
    "    \"Type\": \"string\"\n",
    "  },\n",
    "  {\n",
    "    \"Name\": \"vacina_dataaplicacao\",\n",
    "    \"Type\": \"string\"\n",
    "  },\n",
    "  {\n",
    "    \"Name\": \"vacina_descricao_dose\",\n",
    "    \"Type\": \"string\"\n",
    "  },\n",
    "  {\n",
    "    \"Name\": \"vacina_codigo\",\n",
    "    \"Type\": \"bigint\"\n",
    "  },\n",
    "  {\n",
    "    \"Name\": \"vacina_nome\",\n",
    "    \"Type\": \"string\"\n",
    "  },\n",
    "  {\n",
    "    \"Name\": \"sistema_origem\",\n",
    "    \"Type\": \"string\"\n",
    "  }\n",
    "]"
   ]
  },
  {
   "cell_type": "markdown",
   "id": "df1961ee-ea3d-4b65-b69f-0c1ff6801177",
   "metadata": {},
   "source": [
    "#### O DDL da tabela avro, se precisar\n",
    "\n",
    "```sql\n",
    "CREATE EXTERNAL TABLE `covid-vac-mg-1`(\n",
    "  `document_id` string COMMENT 'from deserializer', \n",
    "  `paciente_id` string COMMENT 'from deserializer', \n",
    "  `paciente_idade` string COMMENT 'from deserializer', \n",
    "  `paciente_datanascimento` string COMMENT 'from deserializer', \n",
    "  `paciente_enumsexobiologico` string COMMENT 'from deserializer', \n",
    "  `paciente_racacor_codigo` string COMMENT 'from deserializer', \n",
    "  `paciente_racacor_valor` string COMMENT 'from deserializer', \n",
    "  `paciente_endereco_coibgemunicipio` string COMMENT 'from deserializer', \n",
    "  `paciente_endereco_copais` string COMMENT 'from deserializer', \n",
    "  `paciente_endereco_nmmunicipio` string COMMENT 'from deserializer', \n",
    "  `paciente_endereco_nmpais` string COMMENT 'from deserializer', \n",
    "  `paciente_endereco_uf` string COMMENT 'from deserializer', \n",
    "  `paciente_endereco_cep` string COMMENT 'from deserializer', \n",
    "  `paciente_nacionalidade_enumnacionalidade` string COMMENT 'from deserializer', \n",
    "  `estabelecimento_valor` string COMMENT 'from deserializer', \n",
    "  `estabelecimento_razaosocial` string COMMENT 'from deserializer', \n",
    "  `estalecimento_nofantasia` string COMMENT 'from deserializer', \n",
    "  `estabelecimento_municipio_codigo` string COMMENT 'from deserializer', \n",
    "  `estabelecimento_municipio_nome` string COMMENT 'from deserializer', \n",
    "  `estabelecimento_uf` string COMMENT 'from deserializer', \n",
    "  `vacina_grupoatendimento_codigo` string COMMENT 'from deserializer', \n",
    "  `vacina_grupoatendimento_nome` string COMMENT 'from deserializer', \n",
    "  `vacina_categoria_codigo` string COMMENT 'from deserializer', \n",
    "  `vacina_categoria_nome` string COMMENT 'from deserializer', \n",
    "  `vacina_lote` string COMMENT 'from deserializer', \n",
    "  `vacina_fabricante_nome` string COMMENT 'from deserializer', \n",
    "  `vacina_fabricante_referencia` string COMMENT 'from deserializer', \n",
    "  `vacina_dataaplicacao` string COMMENT 'from deserializer', \n",
    "  `vacina_descricao_dose` string COMMENT 'from deserializer', \n",
    "  `vacina_codigo` string COMMENT 'from deserializer', \n",
    "  `vacina_nome` string COMMENT 'from deserializer', \n",
    "  `sistema_origem` string COMMENT 'from deserializer')\n",
    "ROW FORMAT SERDE \n",
    "  'org.apache.hadoop.hive.serde2.avro.AvroSerDe' \n",
    "WITH SERDEPROPERTIES ( \n",
    "  'avro.schema.literal'='{\\\"type\\\":\\\"record\\\",\\\"name\\\":\\\"DynamicRecord\\\",\\\"namespace\\\":\\\"root\\\",\\\"fields\\\":[{\\\"name\\\":\\\"document_id\\\",\\\"type\\\":[\\\"string\\\",\\\"null\\\"]},{\\\"name\\\":\\\"paciente_id\\\",\\\"type\\\":[\\\"string\\\",\\\"null\\\"]},{\\\"name\\\":\\\"paciente_idade\\\",\\\"type\\\":[\\\"string\\\",\\\"null\\\"]},{\\\"name\\\":\\\"paciente_dataNascimento\\\",\\\"type\\\":[\\\"string\\\",\\\"null\\\"]},{\\\"name\\\":\\\"paciente_enumSexoBiologico\\\",\\\"type\\\":[\\\"string\\\",\\\"null\\\"]},{\\\"name\\\":\\\"paciente_racaCor_codigo\\\",\\\"type\\\":[\\\"string\\\",\\\"null\\\"]},{\\\"name\\\":\\\"paciente_racaCor_valor\\\",\\\"type\\\":[\\\"string\\\",\\\"null\\\"]},{\\\"name\\\":\\\"paciente_endereco_coIbgeMunicipio\\\",\\\"type\\\":[\\\"string\\\",\\\"null\\\"]},{\\\"name\\\":\\\"paciente_endereco_coPais\\\",\\\"type\\\":[\\\"string\\\",\\\"null\\\"]},{\\\"name\\\":\\\"paciente_endereco_nmMunicipio\\\",\\\"type\\\":[\\\"string\\\",\\\"null\\\"]},{\\\"name\\\":\\\"paciente_endereco_nmPais\\\",\\\"type\\\":[\\\"string\\\",\\\"null\\\"]},{\\\"name\\\":\\\"paciente_endereco_uf\\\",\\\"type\\\":[\\\"string\\\",\\\"null\\\"]},{\\\"name\\\":\\\"paciente_endereco_cep\\\",\\\"type\\\":[\\\"string\\\",\\\"null\\\"]},{\\\"name\\\":\\\"paciente_nacionalidade_enumNacionalidade\\\",\\\"type\\\":[\\\"string\\\",\\\"null\\\"]},{\\\"name\\\":\\\"estabelecimento_valor\\\",\\\"type\\\":[\\\"string\\\",\\\"null\\\"]},{\\\"name\\\":\\\"estabelecimento_razaoSocial\\\",\\\"type\\\":[\\\"string\\\",\\\"null\\\"]},{\\\"name\\\":\\\"estalecimento_noFantasia\\\",\\\"type\\\":[\\\"string\\\",\\\"null\\\"]},{\\\"name\\\":\\\"estabelecimento_municipio_codigo\\\",\\\"type\\\":[\\\"string\\\",\\\"null\\\"]},{\\\"name\\\":\\\"estabelecimento_municipio_nome\\\",\\\"type\\\":[\\\"string\\\",\\\"null\\\"]},{\\\"name\\\":\\\"estabelecimento_uf\\\",\\\"type\\\":[\\\"string\\\",\\\"null\\\"]},{\\\"name\\\":\\\"vacina_grupoAtendimento_codigo\\\",\\\"type\\\":[\\\"string\\\",\\\"null\\\"]},{\\\"name\\\":\\\"vacina_grupoAtendimento_nome\\\",\\\"type\\\":[\\\"string\\\",\\\"null\\\"]},{\\\"name\\\":\\\"vacina_categoria_codigo\\\",\\\"type\\\":[\\\"string\\\",\\\"null\\\"]},{\\\"name\\\":\\\"vacina_categoria_nome\\\",\\\"type\\\":[\\\"string\\\",\\\"null\\\"]},{\\\"name\\\":\\\"vacina_lote\\\",\\\"type\\\":[\\\"string\\\",\\\"null\\\"]},{\\\"name\\\":\\\"vacina_fabricante_nome\\\",\\\"type\\\":[\\\"string\\\",\\\"null\\\"]},{\\\"name\\\":\\\"vacina_fabricante_referencia\\\",\\\"type\\\":[\\\"string\\\",\\\"null\\\"]},{\\\"name\\\":\\\"vacina_dataAplicacao\\\",\\\"type\\\":[\\\"string\\\",\\\"null\\\"]},{\\\"name\\\":\\\"vacina_descricao_dose\\\",\\\"type\\\":[\\\"string\\\",\\\"null\\\"]},{\\\"name\\\":\\\"vacina_codigo\\\",\\\"type\\\":[\\\"string\\\",\\\"null\\\"]},{\\\"name\\\":\\\"vacina_nome\\\",\\\"type\\\":[\\\"string\\\",\\\"null\\\"]},{\\\"name\\\":\\\"sistema_origem\\\",\\\"type\\\":[\\\"string\\\",\\\"null\\\"]}]}') \n",
    "STORED AS INPUTFORMAT \n",
    "  'org.apache.hadoop.hive.ql.io.avro.AvroContainerInputFormat' \n",
    "OUTPUTFORMAT \n",
    "  'org.apache.hadoop.hive.ql.io.avro.AvroContainerOutputFormat'\n",
    "LOCATION\n",
    "  's3://oficina-0973/opendatasus/zonabruta/'\n",
    "TBLPROPERTIES (\n",
    "  'CrawlerSchemaDeserializerVersion'='1.0', \n",
    "  'CrawlerSchemaSerializerVersion'='1.0', \n",
    "  'UPDATED_BY_CRAWLER'='arruma-covid-vac', \n",
    "  'averageRecordSize'='455', \n",
    "  'avro.schema.literal'='{\\\"type\\\":\\\"record\\\",\\\"name\\\":\\\"DynamicRecord\\\",\\\"namespace\\\":\\\"root\\\",\\\"fields\\\":[{\\\"name\\\":\\\"document_id\\\",\\\"type\\\":[\\\"string\\\",\\\"null\\\"]},{\\\"name\\\":\\\"paciente_id\\\",\\\"type\\\":[\\\"string\\\",\\\"null\\\"]},{\\\"name\\\":\\\"paciente_idade\\\",\\\"type\\\":[\\\"string\\\",\\\"null\\\"]},{\\\"name\\\":\\\"paciente_dataNascimento\\\",\\\"type\\\":[\\\"string\\\",\\\"null\\\"]},{\\\"name\\\":\\\"paciente_enumSexoBiologico\\\",\\\"type\\\":[\\\"string\\\",\\\"null\\\"]},{\\\"name\\\":\\\"paciente_racaCor_codigo\\\",\\\"type\\\":[\\\"string\\\",\\\"null\\\"]},{\\\"name\\\":\\\"paciente_racaCor_valor\\\",\\\"type\\\":[\\\"string\\\",\\\"null\\\"]},{\\\"name\\\":\\\"paciente_endereco_coIbgeMunicipio\\\",\\\"type\\\":[\\\"string\\\",\\\"null\\\"]},{\\\"name\\\":\\\"paciente_endereco_coPais\\\",\\\"type\\\":[\\\"string\\\",\\\"null\\\"]},{\\\"name\\\":\\\"paciente_endereco_nmMunicipio\\\",\\\"type\\\":[\\\"string\\\",\\\"null\\\"]},{\\\"name\\\":\\\"paciente_endereco_nmPais\\\",\\\"type\\\":[\\\"string\\\",\\\"null\\\"]},{\\\"name\\\":\\\"paciente_endereco_uf\\\",\\\"type\\\":[\\\"string\\\",\\\"null\\\"]},{\\\"name\\\":\\\"paciente_endereco_cep\\\",\\\"type\\\":[\\\"string\\\",\\\"null\\\"]},{\\\"name\\\":\\\"paciente_nacionalidade_enumNacionalidade\\\",\\\"type\\\":[\\\"string\\\",\\\"null\\\"]},{\\\"name\\\":\\\"estabelecimento_valor\\\",\\\"type\\\":[\\\"string\\\",\\\"null\\\"]},{\\\"name\\\":\\\"estabelecimento_razaoSocial\\\",\\\"type\\\":[\\\"string\\\",\\\"null\\\"]},{\\\"name\\\":\\\"estalecimento_noFantasia\\\",\\\"type\\\":[\\\"string\\\",\\\"null\\\"]},{\\\"name\\\":\\\"estabelecimento_municipio_codigo\\\",\\\"type\\\":[\\\"string\\\",\\\"null\\\"]},{\\\"name\\\":\\\"estabelecimento_municipio_nome\\\",\\\"type\\\":[\\\"string\\\",\\\"null\\\"]},{\\\"name\\\":\\\"estabelecimento_uf\\\",\\\"type\\\":[\\\"string\\\",\\\"null\\\"]},{\\\"name\\\":\\\"vacina_grupoAtendimento_codigo\\\",\\\"type\\\":[\\\"string\\\",\\\"null\\\"]},{\\\"name\\\":\\\"vacina_grupoAtendimento_nome\\\",\\\"type\\\":[\\\"string\\\",\\\"null\\\"]},{\\\"name\\\":\\\"vacina_categoria_codigo\\\",\\\"type\\\":[\\\"string\\\",\\\"null\\\"]},{\\\"name\\\":\\\"vacina_categoria_nome\\\",\\\"type\\\":[\\\"string\\\",\\\"null\\\"]},{\\\"name\\\":\\\"vacina_lote\\\",\\\"type\\\":[\\\"string\\\",\\\"null\\\"]},{\\\"name\\\":\\\"vacina_fabricante_nome\\\",\\\"type\\\":[\\\"string\\\",\\\"null\\\"]},{\\\"name\\\":\\\"vacina_fabricante_referencia\\\",\\\"type\\\":[\\\"string\\\",\\\"null\\\"]},{\\\"name\\\":\\\"vacina_dataAplicacao\\\",\\\"type\\\":[\\\"string\\\",\\\"null\\\"]},{\\\"name\\\":\\\"vacina_descricao_dose\\\",\\\"type\\\":[\\\"string\\\",\\\"null\\\"]},{\\\"name\\\":\\\"vacina_codigo\\\",\\\"type\\\":[\\\"string\\\",\\\"null\\\"]},{\\\"name\\\":\\\"vacina_nome\\\",\\\"type\\\":[\\\"string\\\",\\\"null\\\"]},{\\\"name\\\":\\\"sistema_origem\\\",\\\"type\\\":[\\\"string\\\",\\\"null\\\"]}]}', \n",
    "  'classification'='avro', \n",
    "  'compressionType'='none', \n",
    "  'objectCount'='87', \n",
    "  'recordCount'='11878008', \n",
    "  'sizeKey'='5438235286', \n",
    "  'typeOfData'='file')\n",
    "```"
   ]
  },
  {
   "cell_type": "markdown",
   "id": "41af6879-fd7f-468f-b718-8d453e853c01",
   "metadata": {},
   "source": [
    "### Orientações gerais - fase 3\n",
    "\n",
    "#### No athena - testar select e limpar lixos\n",
    "\n",
    "Fazer análises"
   ]
  },
  {
   "cell_type": "markdown",
   "id": "4c76e73b-a4f5-4cb9-bd3d-2a74668f6e09",
   "metadata": {},
   "source": [
    "Instale a biblioteca do athena para ler os dados de lá através de instruções SQL."
   ]
  },
  {
   "cell_type": "code",
   "execution_count": 75,
   "id": "cda7daf0-2856-4035-bb6e-b643e3294324",
   "metadata": {
    "tags": []
   },
   "outputs": [
    {
     "name": "stdout",
     "output_type": "stream",
     "text": [
      "Requirement already satisfied: PyAthena in /home/ec2-user/anaconda3/envs/pytorch_p310/lib/python3.10/site-packages (3.8.2)\n",
      "Requirement already satisfied: boto3>=1.26.4 in /home/ec2-user/anaconda3/envs/pytorch_p310/lib/python3.10/site-packages (from PyAthena) (1.34.101)\n",
      "Requirement already satisfied: botocore>=1.29.4 in /home/ec2-user/anaconda3/envs/pytorch_p310/lib/python3.10/site-packages (from PyAthena) (1.34.101)\n",
      "Requirement already satisfied: fsspec in /home/ec2-user/anaconda3/envs/pytorch_p310/lib/python3.10/site-packages (from PyAthena) (2024.3.1)\n",
      "Requirement already satisfied: tenacity>=4.1.0 in /home/ec2-user/anaconda3/envs/pytorch_p310/lib/python3.10/site-packages (from PyAthena) (8.2.3)\n",
      "Requirement already satisfied: jmespath<2.0.0,>=0.7.1 in /home/ec2-user/anaconda3/envs/pytorch_p310/lib/python3.10/site-packages (from boto3>=1.26.4->PyAthena) (1.0.1)\n",
      "Requirement already satisfied: s3transfer<0.11.0,>=0.10.0 in /home/ec2-user/anaconda3/envs/pytorch_p310/lib/python3.10/site-packages (from boto3>=1.26.4->PyAthena) (0.10.1)\n",
      "Requirement already satisfied: python-dateutil<3.0.0,>=2.1 in /home/ec2-user/anaconda3/envs/pytorch_p310/lib/python3.10/site-packages (from botocore>=1.29.4->PyAthena) (2.9.0)\n",
      "Requirement already satisfied: urllib3!=2.2.0,<3,>=1.25.4 in /home/ec2-user/anaconda3/envs/pytorch_p310/lib/python3.10/site-packages (from botocore>=1.29.4->PyAthena) (2.2.1)\n",
      "Requirement already satisfied: six>=1.5 in /home/ec2-user/anaconda3/envs/pytorch_p310/lib/python3.10/site-packages (from python-dateutil<3.0.0,>=2.1->botocore>=1.29.4->PyAthena) (1.16.0)\n"
     ]
    }
   ],
   "source": [
    "import sys\n",
    "!{sys.executable} -m pip install PyAthena"
   ]
  },
  {
   "cell_type": "markdown",
   "id": "a9d5044c-5f23-46b5-b038-258176ad02e2",
   "metadata": {},
   "source": [
    "Ler e contar os dados da tabela. Você irá ver um aviso para usar o \"SQLAlchemy\", favor ignorar."
   ]
  },
  {
   "cell_type": "code",
   "execution_count": 76,
   "id": "085c65d8-d8ce-4a5b-b91e-34a637023c5b",
   "metadata": {
    "tags": []
   },
   "outputs": [
    {
     "name": "stderr",
     "output_type": "stream",
     "text": [
      "/tmp/ipykernel_6797/299481358.py:6: UserWarning: pandas only supports SQLAlchemy connectable (engine/connection) or database string URI or sqlite3 DBAPI2 connection. Other DBAPI2 objects are not tested. Please consider using SQLAlchemy.\n",
      "  total = pd.read_sql(\"SELECT count(*) FROM AwsDataCatalog.oficina.covid_vac_mg_1;\", conn)\n"
     ]
    },
    {
     "data": {
      "text/html": [
       "<div>\n",
       "<style scoped>\n",
       "    .dataframe tbody tr th:only-of-type {\n",
       "        vertical-align: middle;\n",
       "    }\n",
       "\n",
       "    .dataframe tbody tr th {\n",
       "        vertical-align: top;\n",
       "    }\n",
       "\n",
       "    .dataframe thead th {\n",
       "        text-align: right;\n",
       "    }\n",
       "</style>\n",
       "<table border=\"1\" class=\"dataframe\">\n",
       "  <thead>\n",
       "    <tr style=\"text-align: right;\">\n",
       "      <th></th>\n",
       "      <th>_col0</th>\n",
       "    </tr>\n",
       "  </thead>\n",
       "  <tbody>\n",
       "    <tr>\n",
       "      <th>0</th>\n",
       "      <td>12027790</td>\n",
       "    </tr>\n",
       "  </tbody>\n",
       "</table>\n",
       "</div>"
      ],
      "text/plain": [
       "      _col0\n",
       "0  12027790"
      ]
     },
     "execution_count": 76,
     "metadata": {},
     "output_type": "execute_result"
    }
   ],
   "source": [
    "from pyathena import connect\n",
    "import pandas as pd\n",
    "conn = connect(s3_staging_dir='s3://cache-athena-17045/',\n",
    "               region_name='us-east-1')\n",
    "\n",
    "total = pd.read_sql(\"SELECT count(*) FROM AwsDataCatalog.oficina.covid_vac_mg_1;\", conn)\n",
    "total"
   ]
  },
  {
   "cell_type": "markdown",
   "id": "bb46632e-240d-44d5-ba62-3cb7e2da6529",
   "metadata": {},
   "source": [
    "Quanto % da população se vacinou no mesmo município?"
   ]
  },
  {
   "cell_type": "code",
   "execution_count": 5,
   "id": "de00a5a7-8c9c-44f7-aeff-b52bd2549919",
   "metadata": {
    "tags": []
   },
   "outputs": [
    {
     "name": "stderr",
     "output_type": "stream",
     "text": [
      "/tmp/ipykernel_6797/3976412840.py:1: UserWarning: pandas only supports SQLAlchemy connectable (engine/connection) or database string URI or sqlite3 DBAPI2 connection. Other DBAPI2 objects are not tested. Please consider using SQLAlchemy.\n",
      "  total_mesmo_municipio = pd.read_sql(\"select sum(count) from (Select  count(*) as count,  paciente_endereco_nmmunicipio, estabelecimento_municipio_nome from AwsDataCatalog.oficina.covid_vac_mg_1 where paciente_endereco_nmmunicipio = estabelecimento_municipio_nome group by  paciente_endereco_nmmunicipio,  estabelecimento_municipio_nome) as s0;\",conn)\n"
     ]
    },
    {
     "data": {
      "text/html": [
       "<div>\n",
       "<style scoped>\n",
       "    .dataframe tbody tr th:only-of-type {\n",
       "        vertical-align: middle;\n",
       "    }\n",
       "\n",
       "    .dataframe tbody tr th {\n",
       "        vertical-align: top;\n",
       "    }\n",
       "\n",
       "    .dataframe thead th {\n",
       "        text-align: right;\n",
       "    }\n",
       "</style>\n",
       "<table border=\"1\" class=\"dataframe\">\n",
       "  <thead>\n",
       "    <tr style=\"text-align: right;\">\n",
       "      <th></th>\n",
       "      <th>_col0</th>\n",
       "    </tr>\n",
       "  </thead>\n",
       "  <tbody>\n",
       "    <tr>\n",
       "      <th>0</th>\n",
       "      <td>85.055376</td>\n",
       "    </tr>\n",
       "  </tbody>\n",
       "</table>\n",
       "</div>"
      ],
      "text/plain": [
       "       _col0\n",
       "0  85.055376"
      ]
     },
     "execution_count": 5,
     "metadata": {},
     "output_type": "execute_result"
    }
   ],
   "source": [
    "total_mesmo_municipio = pd.read_sql(\"select sum(count) from (Select  count(*) as count,  paciente_endereco_nmmunicipio, estabelecimento_municipio_nome from AwsDataCatalog.oficina.covid_vac_mg_1 where paciente_endereco_nmmunicipio = estabelecimento_municipio_nome group by  paciente_endereco_nmmunicipio,  estabelecimento_municipio_nome) as s0;\",conn)\n",
    "pct_mesmo_municipio = total_mesmo_municipio * 100 / total\n",
    "pct_mesmo_municipio"
   ]
  },
  {
   "cell_type": "markdown",
   "id": "ea2bad30-2b0b-4d62-8dc9-ac520c19cadb",
   "metadata": {},
   "source": [
    "Quais as vacinas mais usadas para pessoas que vacinaram em município diferente da moradia?"
   ]
  },
  {
   "cell_type": "code",
   "execution_count": 11,
   "id": "aa0f47de-923b-4a02-9716-35747d7b0bcb",
   "metadata": {
    "tags": []
   },
   "outputs": [
    {
     "name": "stderr",
     "output_type": "stream",
     "text": [
      "/tmp/ipykernel_6989/289995184.py:1: UserWarning: pandas only supports SQLAlchemy connectable (engine/connection) or database string URI or sqlite3 DBAPI2 connection. Other DBAPI2 objects are not tested. Please consider using SQLAlchemy.\n",
      "  preferencia_vacinas = pd.read_sql(\"select count(*) as count, vacina_fabricante_nome, paciente_idade  from AwsDataCatalog.oficina.covid_vac_mg_1 where paciente_endereco_nmmunicipio != estabelecimento_municipio_nome group by vacina_fabricante_nome, paciente_idade;\",conn)\n"
     ]
    },
    {
     "data": {
      "text/html": [
       "<div>\n",
       "<style scoped>\n",
       "    .dataframe tbody tr th:only-of-type {\n",
       "        vertical-align: middle;\n",
       "    }\n",
       "\n",
       "    .dataframe tbody tr th {\n",
       "        vertical-align: top;\n",
       "    }\n",
       "\n",
       "    .dataframe thead th {\n",
       "        text-align: right;\n",
       "    }\n",
       "</style>\n",
       "<table border=\"1\" class=\"dataframe\">\n",
       "  <thead>\n",
       "    <tr style=\"text-align: right;\">\n",
       "      <th></th>\n",
       "      <th>count</th>\n",
       "      <th>vacina_fabricante_nome</th>\n",
       "      <th>paciente_idade</th>\n",
       "    </tr>\n",
       "  </thead>\n",
       "  <tbody>\n",
       "    <tr>\n",
       "      <th>0</th>\n",
       "      <td>3177</td>\n",
       "      <td>SINOVAC/BUTANTAN</td>\n",
       "      <td>77</td>\n",
       "    </tr>\n",
       "    <tr>\n",
       "      <th>1</th>\n",
       "      <td>12874</td>\n",
       "      <td>PFIZER</td>\n",
       "      <td>13</td>\n",
       "    </tr>\n",
       "    <tr>\n",
       "      <th>2</th>\n",
       "      <td>407</td>\n",
       "      <td>BUTANTAN</td>\n",
       "      <td>83</td>\n",
       "    </tr>\n",
       "    <tr>\n",
       "      <th>3</th>\n",
       "      <td>4256</td>\n",
       "      <td>PFIZER</td>\n",
       "      <td>71</td>\n",
       "    </tr>\n",
       "    <tr>\n",
       "      <th>4</th>\n",
       "      <td>1690</td>\n",
       "      <td>PFIZER - PEDIÁTRICA</td>\n",
       "      <td>11</td>\n",
       "    </tr>\n",
       "  </tbody>\n",
       "</table>\n",
       "</div>"
      ],
      "text/plain": [
       "   count vacina_fabricante_nome paciente_idade\n",
       "0   3177       SINOVAC/BUTANTAN             77\n",
       "1  12874                 PFIZER             13\n",
       "2    407               BUTANTAN             83\n",
       "3   4256                 PFIZER             71\n",
       "4   1690    PFIZER - PEDIÁTRICA             11"
      ]
     },
     "execution_count": 11,
     "metadata": {},
     "output_type": "execute_result"
    }
   ],
   "source": [
    "preferencia_vacinas = pd.read_sql(\"select count(*) as count, vacina_fabricante_nome, paciente_idade  from AwsDataCatalog.oficina.covid_vac_mg_1 where paciente_endereco_nmmunicipio != estabelecimento_municipio_nome group by vacina_fabricante_nome, paciente_idade;\",conn)\n",
    "preferencia_vacinas.head()"
   ]
  },
  {
   "cell_type": "markdown",
   "id": "06645efc-252f-4be2-93ad-50be9e9b9237",
   "metadata": {},
   "source": [
    "Estatísticas básicas da contagem de vacinas por tipo e idade que foram feitas fora do município de moradia."
   ]
  },
  {
   "cell_type": "code",
   "execution_count": 12,
   "id": "6c5c2940-5e7f-41fe-b8f6-ff032d5ab0ca",
   "metadata": {
    "tags": []
   },
   "outputs": [
    {
     "data": {
      "text/html": [
       "<div>\n",
       "<style scoped>\n",
       "    .dataframe tbody tr th:only-of-type {\n",
       "        vertical-align: middle;\n",
       "    }\n",
       "\n",
       "    .dataframe tbody tr th {\n",
       "        vertical-align: top;\n",
       "    }\n",
       "\n",
       "    .dataframe thead th {\n",
       "        text-align: right;\n",
       "    }\n",
       "</style>\n",
       "<table border=\"1\" class=\"dataframe\">\n",
       "  <thead>\n",
       "    <tr style=\"text-align: right;\">\n",
       "      <th></th>\n",
       "      <th>count</th>\n",
       "    </tr>\n",
       "  </thead>\n",
       "  <tbody>\n",
       "    <tr>\n",
       "      <th>count</th>\n",
       "      <td>942.000000</td>\n",
       "    </tr>\n",
       "    <tr>\n",
       "      <th>mean</th>\n",
       "      <td>1908.182590</td>\n",
       "    </tr>\n",
       "    <tr>\n",
       "      <th>std</th>\n",
       "      <td>3616.774229</td>\n",
       "    </tr>\n",
       "    <tr>\n",
       "      <th>min</th>\n",
       "      <td>1.000000</td>\n",
       "    </tr>\n",
       "    <tr>\n",
       "      <th>25%</th>\n",
       "      <td>8.000000</td>\n",
       "    </tr>\n",
       "    <tr>\n",
       "      <th>50%</th>\n",
       "      <td>251.000000</td>\n",
       "    </tr>\n",
       "    <tr>\n",
       "      <th>75%</th>\n",
       "      <td>1810.500000</td>\n",
       "    </tr>\n",
       "    <tr>\n",
       "      <th>max</th>\n",
       "      <td>19018.000000</td>\n",
       "    </tr>\n",
       "  </tbody>\n",
       "</table>\n",
       "</div>"
      ],
      "text/plain": [
       "              count\n",
       "count    942.000000\n",
       "mean    1908.182590\n",
       "std     3616.774229\n",
       "min        1.000000\n",
       "25%        8.000000\n",
       "50%      251.000000\n",
       "75%     1810.500000\n",
       "max    19018.000000"
      ]
     },
     "execution_count": 12,
     "metadata": {},
     "output_type": "execute_result"
    }
   ],
   "source": [
    "preferencia_vacinas.describe()"
   ]
  },
  {
   "cell_type": "markdown",
   "id": "c200cf74-74d0-46eb-8940-9bbabec4e655",
   "metadata": {},
   "source": [
    "Vamos fazer alguns gráficos?"
   ]
  },
  {
   "cell_type": "code",
   "execution_count": 77,
   "id": "fba9046a-c620-4583-a142-4bc645e14c70",
   "metadata": {
    "tags": []
   },
   "outputs": [],
   "source": [
    "import matplotlib.pyplot as plt"
   ]
  },
  {
   "cell_type": "code",
   "execution_count": 14,
   "id": "b55d8de6-0cf9-4074-ab55-2dce8bbc0678",
   "metadata": {
    "tags": []
   },
   "outputs": [
    {
     "data": {
      "image/png": "[encoded data removed]",
      "text/plain": [
       "<Figure size 2000x1500 with 1 Axes>"
      ]
     },
     "metadata": {},
     "output_type": "display_data"
    }
   ],
   "source": [
    "#hitograma dos dados, do count\n",
    "preferencia_vacinas.hist(bins=50, figsize=(20,15))\n",
    "plt.show()"
   ]
  },
  {
   "cell_type": "code",
   "execution_count": 15,
   "id": "91e473cb-cfb6-4e7e-94e6-415fc43c445d",
   "metadata": {
    "tags": []
   },
   "outputs": [
    {
     "data": {
      "text/plain": [
       "Index(['count', 'vacina_fabricante_nome', 'paciente_idade'], dtype='object')"
      ]
     },
     "execution_count": 15,
     "metadata": {},
     "output_type": "execute_result"
    }
   ],
   "source": [
    "#colunas do dataset\n",
    "preferencia_vacinas.columns"
   ]
  },
  {
   "cell_type": "code",
   "execution_count": 16,
   "id": "58fe9315-694a-40dc-a1a7-f100547a29c4",
   "metadata": {
    "tags": []
   },
   "outputs": [
    {
     "data": {
      "text/plain": [
       "array(['SINOVAC/BUTANTAN', 'PFIZER', 'BUTANTAN', 'PFIZER - PEDIÁTRICA',\n",
       "       'JANSSEN', 'PFIZER - PEDI?TRICA', 'ASTRAZENECA', 'SINOVAC',\n",
       "       'PFIZER - PEDIÁTRICA MENOR DE 5 ANOS', 'Pendente Identificação',\n",
       "       'ASTRAZENECA/FIOCRUZ', 'FUNDACAO OSWALDO CRUZ',\n",
       "       'SINOVAC LIFE SCIENCES CO., LTD',\n",
       "       'PFIZER MANUFACTURING BELGIUM NV - BELGICA',\n",
       "       'JANSSEN PHARMACEUTICA NV', 'Pendente Identifica??o'], dtype=object)"
      ]
     },
     "execution_count": 16,
     "metadata": {},
     "output_type": "execute_result"
    }
   ],
   "source": [
    "#Quantos valores únicos tem a variáveis vacina_fabricante_nome?\n",
    "preferencia_vacinas['vacina_fabricante_nome'].unique()"
   ]
  },
  {
   "cell_type": "markdown",
   "id": "5778bbc4-8c2f-482b-9e05-7dbe29696c3d",
   "metadata": {},
   "source": [
    "Removeremos a coluna \"idade\""
   ]
  },
  {
   "cell_type": "code",
   "execution_count": 17,
   "id": "edfc36cb-2fc1-44b9-8f31-7a2f39559b37",
   "metadata": {
    "tags": []
   },
   "outputs": [],
   "source": [
    "preferencia_vacinas.drop(['paciente_idade'],axis=1,inplace=True)"
   ]
  },
  {
   "cell_type": "code",
   "execution_count": 18,
   "id": "8dec0b8e-070b-4e08-9282-3bfc2ba5eb5d",
   "metadata": {
    "tags": []
   },
   "outputs": [
    {
     "data": {
      "text/html": [
       "<div>\n",
       "<style scoped>\n",
       "    .dataframe tbody tr th:only-of-type {\n",
       "        vertical-align: middle;\n",
       "    }\n",
       "\n",
       "    .dataframe tbody tr th {\n",
       "        vertical-align: top;\n",
       "    }\n",
       "\n",
       "    .dataframe thead th {\n",
       "        text-align: right;\n",
       "    }\n",
       "</style>\n",
       "<table border=\"1\" class=\"dataframe\">\n",
       "  <thead>\n",
       "    <tr style=\"text-align: right;\">\n",
       "      <th></th>\n",
       "      <th>count</th>\n",
       "      <th>vacina_fabricante_nome</th>\n",
       "    </tr>\n",
       "  </thead>\n",
       "  <tbody>\n",
       "    <tr>\n",
       "      <th>0</th>\n",
       "      <td>3177</td>\n",
       "      <td>SINOVAC/BUTANTAN</td>\n",
       "    </tr>\n",
       "    <tr>\n",
       "      <th>1</th>\n",
       "      <td>12874</td>\n",
       "      <td>PFIZER</td>\n",
       "    </tr>\n",
       "    <tr>\n",
       "      <th>2</th>\n",
       "      <td>407</td>\n",
       "      <td>BUTANTAN</td>\n",
       "    </tr>\n",
       "    <tr>\n",
       "      <th>3</th>\n",
       "      <td>4256</td>\n",
       "      <td>PFIZER</td>\n",
       "    </tr>\n",
       "    <tr>\n",
       "      <th>4</th>\n",
       "      <td>1690</td>\n",
       "      <td>PFIZER - PEDIÁTRICA</td>\n",
       "    </tr>\n",
       "    <tr>\n",
       "      <th>...</th>\n",
       "      <td>...</td>\n",
       "      <td>...</td>\n",
       "    </tr>\n",
       "    <tr>\n",
       "      <th>937</th>\n",
       "      <td>9600</td>\n",
       "      <td>ASTRAZENECA/FIOCRUZ</td>\n",
       "    </tr>\n",
       "    <tr>\n",
       "      <th>938</th>\n",
       "      <td>533</td>\n",
       "      <td>ASTRAZENECA/FIOCRUZ</td>\n",
       "    </tr>\n",
       "    <tr>\n",
       "      <th>939</th>\n",
       "      <td>2506</td>\n",
       "      <td>JANSSEN</td>\n",
       "    </tr>\n",
       "    <tr>\n",
       "      <th>940</th>\n",
       "      <td>109</td>\n",
       "      <td>ASTRAZENECA/FIOCRUZ</td>\n",
       "    </tr>\n",
       "    <tr>\n",
       "      <th>941</th>\n",
       "      <td>2</td>\n",
       "      <td>PFIZER - PEDI?TRICA</td>\n",
       "    </tr>\n",
       "  </tbody>\n",
       "</table>\n",
       "<p>942 rows × 2 columns</p>\n",
       "</div>"
      ],
      "text/plain": [
       "     count vacina_fabricante_nome\n",
       "0     3177       SINOVAC/BUTANTAN\n",
       "1    12874                 PFIZER\n",
       "2      407               BUTANTAN\n",
       "3     4256                 PFIZER\n",
       "4     1690    PFIZER - PEDIÁTRICA\n",
       "..     ...                    ...\n",
       "937   9600    ASTRAZENECA/FIOCRUZ\n",
       "938    533    ASTRAZENECA/FIOCRUZ\n",
       "939   2506                JANSSEN\n",
       "940    109    ASTRAZENECA/FIOCRUZ\n",
       "941      2    PFIZER - PEDI?TRICA\n",
       "\n",
       "[942 rows x 2 columns]"
      ]
     },
     "execution_count": 18,
     "metadata": {},
     "output_type": "execute_result"
    }
   ],
   "source": [
    "preferencia_vacinas"
   ]
  },
  {
   "cell_type": "code",
   "execution_count": 19,
   "id": "16f42510-8f62-4cd9-bc52-31527f7aa9c1",
   "metadata": {
    "tags": []
   },
   "outputs": [
    {
     "name": "stderr",
     "output_type": "stream",
     "text": [
      "/tmp/ipykernel_6989/527238173.py:9: UserWarning: set_ticklabels() should only be used with a fixed number of ticks, i.e. after set_ticks() or using a FixedLocator.\n",
      "  axs.set_xticklabels(names, rotation=45)\n"
     ]
    },
    {
     "data": {
      "text/plain": [
       "Text(0.5, 0.98, 'Quantidade de aplicações por tipo de vacinas aplicadas fora do município de residência')"
      ]
     },
     "execution_count": 19,
     "metadata": {},
     "output_type": "execute_result"
    },
    {
     "data": {
      "image/png": "[encoded data removed]",
      "text/plain": [
       "<Figure size 1200x300 with 1 Axes>"
      ]
     },
     "metadata": {},
     "output_type": "display_data"
    }
   ],
   "source": [
    "#https://matplotlib.org/stable/api/_as_gen/matplotlib.pyplot.subplot.html\n",
    "\n",
    "plt.rcParams.update({'font.size': 6})\n",
    "names = preferencia_vacinas['vacina_fabricante_nome']\n",
    "values = preferencia_vacinas['count']\n",
    "\n",
    "fig, axs = plt.subplots(1, 1, figsize=(12, 3))\n",
    "axs.bar(names, values)\n",
    "axs.set_xticklabels(names, rotation=45)\n",
    "fig.suptitle('Quantidade de aplicações por tipo de vacinas aplicadas fora do município de residência')"
   ]
  },
  {
   "cell_type": "code",
   "execution_count": 21,
   "id": "86483ec6-9466-4427-91ea-2fb70d0d2721",
   "metadata": {
    "tags": []
   },
   "outputs": [
    {
     "name": "stderr",
     "output_type": "stream",
     "text": [
      "/tmp/ipykernel_6989/550890773.py:1: UserWarning: pandas only supports SQLAlchemy connectable (engine/connection) or database string URI or sqlite3 DBAPI2 connection. Other DBAPI2 objects are not tested. Please consider using SQLAlchemy.\n",
      "  preferencia_vacinas_mesmo_municipio = pd.read_sql(\"select count(*) as count, vacina_fabricante_nome, paciente_idade  from AwsDataCatalog.oficina.covid_vac_mg_1  where paciente_endereco_nmmunicipio = estabelecimento_municipio_nome group by vacina_fabricante_nome, paciente_idade;\",conn)\n"
     ]
    }
   ],
   "source": [
    "preferencia_vacinas_mesmo_municipio = pd.read_sql(\"select count(*) as count, vacina_fabricante_nome, paciente_idade  from AwsDataCatalog.oficina.covid_vac_mg_1  where paciente_endereco_nmmunicipio = estabelecimento_municipio_nome group by vacina_fabricante_nome, paciente_idade;\",conn)"
   ]
  },
  {
   "cell_type": "code",
   "execution_count": 22,
   "id": "8c6a843b-f9ff-483b-836c-1c5009572485",
   "metadata": {
    "tags": []
   },
   "outputs": [
    {
     "data": {
      "image/png": "[encoded data removed]",
      "text/plain": [
       "<Figure size 2000x1500 with 1 Axes>"
      ]
     },
     "metadata": {},
     "output_type": "display_data"
    }
   ],
   "source": [
    "#hitograma dos dados\n",
    "preferencia_vacinas_mesmo_municipio.hist(bins=50, figsize=(20,15))\n",
    "plt.show()"
   ]
  },
  {
   "cell_type": "code",
   "execution_count": 23,
   "id": "7074dbe3-bcde-4ee1-ab28-f8f5eae1cfab",
   "metadata": {
    "tags": []
   },
   "outputs": [
    {
     "name": "stderr",
     "output_type": "stream",
     "text": [
      "/tmp/ipykernel_6989/1956884279.py:7: UserWarning: set_ticklabels() should only be used with a fixed number of ticks, i.e. after set_ticks() or using a FixedLocator.\n",
      "  axs.set_xticklabels(names, rotation=45)\n"
     ]
    },
    {
     "data": {
      "text/plain": [
       "Text(0.5, 0.98, 'Quantidade de aplicações por tipo de vacinas aplicadas no mesmo município de residência')"
      ]
     },
     "execution_count": 23,
     "metadata": {},
     "output_type": "execute_result"
    },
    {
     "data": {
      "image/png": "[encoded data removed]",
      "text/plain": [
       "<Figure size 1200x300 with 1 Axes>"
      ]
     },
     "metadata": {},
     "output_type": "display_data"
    }
   ],
   "source": [
    "plt.rcParams.update({'font.size': 6})\n",
    "names = preferencia_vacinas_mesmo_municipio['vacina_fabricante_nome']\n",
    "values = preferencia_vacinas_mesmo_municipio['count']\n",
    "\n",
    "fig, axs = plt.subplots(1, 1, figsize=(12, 3))\n",
    "axs.bar(names, values)\n",
    "axs.set_xticklabels(names, rotation=45)\n",
    "fig.suptitle('Quantidade de aplicações por tipo de vacinas aplicadas no mesmo município de residência')"
   ]
  },
  {
   "cell_type": "code",
   "execution_count": 24,
   "id": "890dc441-728d-4ba7-a2ab-a2892399523a",
   "metadata": {
    "tags": []
   },
   "outputs": [
    {
     "data": {
      "text/html": [
       "<div>\n",
       "<style scoped>\n",
       "    .dataframe tbody tr th:only-of-type {\n",
       "        vertical-align: middle;\n",
       "    }\n",
       "\n",
       "    .dataframe tbody tr th {\n",
       "        vertical-align: top;\n",
       "    }\n",
       "\n",
       "    .dataframe thead th {\n",
       "        text-align: right;\n",
       "    }\n",
       "</style>\n",
       "<table border=\"1\" class=\"dataframe\">\n",
       "  <thead>\n",
       "    <tr style=\"text-align: right;\">\n",
       "      <th></th>\n",
       "      <th>count</th>\n",
       "      <th>vacina_fabricante_nome</th>\n",
       "      <th>paciente_idade</th>\n",
       "    </tr>\n",
       "  </thead>\n",
       "  <tbody>\n",
       "    <tr>\n",
       "      <th>10</th>\n",
       "      <td>102011</td>\n",
       "      <td>PFIZER</td>\n",
       "      <td>12</td>\n",
       "    </tr>\n",
       "    <tr>\n",
       "      <th>63</th>\n",
       "      <td>82882</td>\n",
       "      <td>ASTRAZENECA/FIOCRUZ</td>\n",
       "      <td>61</td>\n",
       "    </tr>\n",
       "    <tr>\n",
       "      <th>476</th>\n",
       "      <td>93220</td>\n",
       "      <td>PFIZER</td>\n",
       "      <td>17</td>\n",
       "    </tr>\n",
       "    <tr>\n",
       "      <th>575</th>\n",
       "      <td>91867</td>\n",
       "      <td>PFIZER</td>\n",
       "      <td>13</td>\n",
       "    </tr>\n",
       "    <tr>\n",
       "      <th>606</th>\n",
       "      <td>94634</td>\n",
       "      <td>PFIZER</td>\n",
       "      <td>15</td>\n",
       "    </tr>\n",
       "    <tr>\n",
       "      <th>702</th>\n",
       "      <td>95153</td>\n",
       "      <td>PFIZER</td>\n",
       "      <td>16</td>\n",
       "    </tr>\n",
       "    <tr>\n",
       "      <th>784</th>\n",
       "      <td>91217</td>\n",
       "      <td>PFIZER</td>\n",
       "      <td>14</td>\n",
       "    </tr>\n",
       "    <tr>\n",
       "      <th>1065</th>\n",
       "      <td>88481</td>\n",
       "      <td>ASTRAZENECA/FIOCRUZ</td>\n",
       "      <td>60</td>\n",
       "    </tr>\n",
       "  </tbody>\n",
       "</table>\n",
       "</div>"
      ],
      "text/plain": [
       "       count vacina_fabricante_nome paciente_idade\n",
       "10    102011                 PFIZER             12\n",
       "63     82882    ASTRAZENECA/FIOCRUZ             61\n",
       "476    93220                 PFIZER             17\n",
       "575    91867                 PFIZER             13\n",
       "606    94634                 PFIZER             15\n",
       "702    95153                 PFIZER             16\n",
       "784    91217                 PFIZER             14\n",
       "1065   88481    ASTRAZENECA/FIOCRUZ             60"
      ]
     },
     "execution_count": 24,
     "metadata": {},
     "output_type": "execute_result"
    }
   ],
   "source": [
    "maiores = preferencia_vacinas_mesmo_municipio[preferencia_vacinas_mesmo_municipio['count']>80000]\n",
    "maiores"
   ]
  },
  {
   "cell_type": "markdown",
   "id": "bb8d9396-e51f-43e2-9e49-1a9e03fef48a",
   "metadata": {},
   "source": [
    "ETL resultante do visual ETL no Glue, se precisar.\n",
    "\n",
    "```python\n",
    "import sys\n",
    "from awsglue.transforms import *\n",
    "from awsglue.utils import getResolvedOptions\n",
    "from pyspark.context import SparkContext\n",
    "from awsglue.context import GlueContext\n",
    "from awsglue.job import Job\n",
    "\n",
    "args = getResolvedOptions(sys.argv, ['JOB_NAME'])\n",
    "sc = SparkContext()\n",
    "glueContext = GlueContext(sc)\n",
    "spark = glueContext.spark_session\n",
    "job = Job(glueContext)\n",
    "job.init(args['JOB_NAME'], args)\n",
    "\n",
    "# Script generated for node Amazon S3\n",
    "AmazonS3_node1714854917742 = glueContext.create_dynamic_frame.from_options(format_options={\"quoteChar\": \"\\\"\", \"withHeader\": True, \"separator\": \";\", \"optimizePerformance\": False}, connection_type=\"s3\", format=\"csv\", connection_options={\"paths\": [\"s3://oficina-0973/opendatasus/mg/covid-vac-mg-1.csv\"], \"recurse\": True}, transformation_ctx=\"AmazonS3_node1714854917742\")\n",
    "\n",
    "# Script generated for node AWS Glue Data Catalog\n",
    "AWSGlueDataCatalog_node1714855054906 = glueContext.write_dynamic_frame.from_catalog(frame=AmazonS3_node1714854917742, database=\"oficina\", table_name=\"covid-vac-mg-1\", additional_options={\"enableUpdateCatalog\": True, \"updateBehavior\": \"UPDATE_IN_DATABASE\"}, transformation_ctx=\"AWSGlueDataCatalog_node1714855054906\")\n",
    "\n",
    "job.commit()\n",
    "```"
   ]
  },
  {
   "cell_type": "markdown",
   "id": "862aad21-3f06-46a7-acd4-2e11946893cb",
   "metadata": {
    "tags": []
   },
   "source": [
    "# Exercícios\n",
    "\n",
    "## Registros repetidos"
   ]
  },
  {
   "cell_type": "markdown",
   "id": "f8a89467-7e34-41c8-b6ca-c281f081d72f",
   "metadata": {},
   "source": [
    "Para ver se existem registros repetidos, vamos ver quantas vezes cada número de ocorrências de um registro ocorre. Para isso, primeiro contamos os registros com base no ID dos pacientes e na data de aplicação da vacina (em teoria, um mesmo paciente não pode tomar mais de uma dose da vacina para COVID no mesmo dia), e, em seguida, contamos essa contagem, ou seja, quantos registros aparecem cada quantidade de vezes."
   ]
  },
  {
   "cell_type": "code",
   "execution_count": 6,
   "id": "01e2ddfb-e793-4eec-90a7-baa580ecaec3",
   "metadata": {
    "tags": []
   },
   "outputs": [
    {
     "name": "stderr",
     "output_type": "stream",
     "text": [
      "/tmp/ipykernel_6797/3635714522.py:1: UserWarning: pandas only supports SQLAlchemy connectable (engine/connection) or database string URI or sqlite3 DBAPI2 connection. Other DBAPI2 objects are not tested. Please consider using SQLAlchemy.\n",
      "  repeated_records = pd.read_sql(\"\"\"SELECT counting, COUNT(*) AS n_of_occurences\n"
     ]
    },
    {
     "data": {
      "text/html": [
       "<div>\n",
       "<style scoped>\n",
       "    .dataframe tbody tr th:only-of-type {\n",
       "        vertical-align: middle;\n",
       "    }\n",
       "\n",
       "    .dataframe tbody tr th {\n",
       "        vertical-align: top;\n",
       "    }\n",
       "\n",
       "    .dataframe thead th {\n",
       "        text-align: right;\n",
       "    }\n",
       "</style>\n",
       "<table border=\"1\" class=\"dataframe\">\n",
       "  <thead>\n",
       "    <tr style=\"text-align: right;\">\n",
       "      <th></th>\n",
       "      <th>counting</th>\n",
       "      <th>n_of_occurences</th>\n",
       "    </tr>\n",
       "  </thead>\n",
       "  <tbody>\n",
       "    <tr>\n",
       "      <th>0</th>\n",
       "      <td>1</td>\n",
       "      <td>12001387</td>\n",
       "    </tr>\n",
       "    <tr>\n",
       "      <th>1</th>\n",
       "      <td>2</td>\n",
       "      <td>13027</td>\n",
       "    </tr>\n",
       "    <tr>\n",
       "      <th>2</th>\n",
       "      <td>3</td>\n",
       "      <td>84</td>\n",
       "    </tr>\n",
       "    <tr>\n",
       "      <th>3</th>\n",
       "      <td>4</td>\n",
       "      <td>2</td>\n",
       "    </tr>\n",
       "    <tr>\n",
       "      <th>4</th>\n",
       "      <td>7</td>\n",
       "      <td>1</td>\n",
       "    </tr>\n",
       "    <tr>\n",
       "      <th>5</th>\n",
       "      <td>8</td>\n",
       "      <td>1</td>\n",
       "    </tr>\n",
       "    <tr>\n",
       "      <th>6</th>\n",
       "      <td>11</td>\n",
       "      <td>1</td>\n",
       "    </tr>\n",
       "    <tr>\n",
       "      <th>7</th>\n",
       "      <td>13</td>\n",
       "      <td>1</td>\n",
       "    </tr>\n",
       "    <tr>\n",
       "      <th>8</th>\n",
       "      <td>14</td>\n",
       "      <td>1</td>\n",
       "    </tr>\n",
       "    <tr>\n",
       "      <th>9</th>\n",
       "      <td>17</td>\n",
       "      <td>1</td>\n",
       "    </tr>\n",
       "    <tr>\n",
       "      <th>10</th>\n",
       "      <td>19</td>\n",
       "      <td>1</td>\n",
       "    </tr>\n",
       "  </tbody>\n",
       "</table>\n",
       "</div>"
      ],
      "text/plain": [
       "    counting  n_of_occurences\n",
       "0          1         12001387\n",
       "1          2            13027\n",
       "2          3               84\n",
       "3          4                2\n",
       "4          7                1\n",
       "5          8                1\n",
       "6         11                1\n",
       "7         13                1\n",
       "8         14                1\n",
       "9         17                1\n",
       "10        19                1"
      ]
     },
     "execution_count": 6,
     "metadata": {},
     "output_type": "execute_result"
    }
   ],
   "source": [
    "repeated_records = pd.read_sql(\"\"\"SELECT counting, COUNT(*) AS n_of_occurences \n",
    "                                  FROM (\n",
    "                                      SELECT COUNT(*) AS counting \n",
    "                                      FROM AwsDataCatalog.oficina.covid_vac_mg_1 \n",
    "                                      GROUP BY paciente_id, vacina_dataaplicacao\n",
    "                                  )\n",
    "                                  GROUP BY counting\n",
    "                                  ORDER BY counting;\"\"\", conn)\n",
    "repeated_records"
   ]
  },
  {
   "cell_type": "markdown",
   "id": "afc78615-73ac-447a-a1e8-5250fec1ba30",
   "metadata": {},
   "source": [
    "A maioria dos registros aparece apenas uma vez, mas temos mais de 13 mil registros repetidos, inclusive com um registro que consta que um mesmo indivíduo se vacinou 19 vezes no mesmo dia!\n",
    "\n",
    "Vamos ver isso num gráfico."
   ]
  },
  {
   "cell_type": "code",
   "execution_count": 9,
   "id": "a033c257-fc25-4a49-a9ba-9bb87ee6b052",
   "metadata": {
    "tags": []
   },
   "outputs": [
    {
     "data": {
      "image/png": "[encoded data removed]",
      "text/plain": [
       "<Figure size 640x480 with 1 Axes>"
      ]
     },
     "metadata": {},
     "output_type": "display_data"
    }
   ],
   "source": [
    "plt.bar(repeated_records[\"counting\"], repeated_records[\"n_of_occurences\"])\n",
    "plt.yscale(\"log\")\n",
    "plt.xlabel('Counting')\n",
    "plt.ylabel('N° of occurences')\n",
    "plt.xticks(range(0, 20))\n",
    "plt.title('Repeated records analysis')\n",
    "plt.show()"
   ]
  },
  {
   "cell_type": "markdown",
   "id": "f7215ef9-1b6c-464c-a390-43266a4554a4",
   "metadata": {},
   "source": [
    "## Mais de 3 doses\n",
    "\n",
    "Agora, precisamos analisar se existem pessoas que receberam mais de 3 doses da vacina. Para isso, basta agruparmos os dados pelos IDs dos pacientes e contar quantas vezes cada quantidade dessas ocorre."
   ]
  },
  {
   "cell_type": "code",
   "execution_count": 10,
   "id": "823bc8d3-0adb-4b12-8bb7-bc65b7192e13",
   "metadata": {
    "tags": []
   },
   "outputs": [
    {
     "name": "stderr",
     "output_type": "stream",
     "text": [
      "/tmp/ipykernel_6797/3406542615.py:1: UserWarning: pandas only supports SQLAlchemy connectable (engine/connection) or database string URI or sqlite3 DBAPI2 connection. Other DBAPI2 objects are not tested. Please consider using SQLAlchemy.\n",
      "  n_of_doses = pd.read_sql(\"\"\"SELECT n_of_doses, COUNT(*) AS n_of_occurences\n"
     ]
    },
    {
     "data": {
      "text/html": [
       "<div>\n",
       "<style scoped>\n",
       "    .dataframe tbody tr th:only-of-type {\n",
       "        vertical-align: middle;\n",
       "    }\n",
       "\n",
       "    .dataframe tbody tr th {\n",
       "        vertical-align: top;\n",
       "    }\n",
       "\n",
       "    .dataframe thead th {\n",
       "        text-align: right;\n",
       "    }\n",
       "</style>\n",
       "<table border=\"1\" class=\"dataframe\">\n",
       "  <thead>\n",
       "    <tr style=\"text-align: right;\">\n",
       "      <th></th>\n",
       "      <th>n_of_doses</th>\n",
       "      <th>n_of_occurences</th>\n",
       "    </tr>\n",
       "  </thead>\n",
       "  <tbody>\n",
       "    <tr>\n",
       "      <th>0</th>\n",
       "      <td>1</td>\n",
       "      <td>7100037</td>\n",
       "    </tr>\n",
       "    <tr>\n",
       "      <th>1</th>\n",
       "      <td>2</td>\n",
       "      <td>1918442</td>\n",
       "    </tr>\n",
       "    <tr>\n",
       "      <th>2</th>\n",
       "      <td>3</td>\n",
       "      <td>310710</td>\n",
       "    </tr>\n",
       "    <tr>\n",
       "      <th>3</th>\n",
       "      <td>4</td>\n",
       "      <td>35770</td>\n",
       "    </tr>\n",
       "    <tr>\n",
       "      <th>4</th>\n",
       "      <td>5</td>\n",
       "      <td>2924</td>\n",
       "    </tr>\n",
       "    <tr>\n",
       "      <th>5</th>\n",
       "      <td>6</td>\n",
       "      <td>146</td>\n",
       "    </tr>\n",
       "    <tr>\n",
       "      <th>6</th>\n",
       "      <td>7</td>\n",
       "      <td>3</td>\n",
       "    </tr>\n",
       "    <tr>\n",
       "      <th>7</th>\n",
       "      <td>142</td>\n",
       "      <td>1</td>\n",
       "    </tr>\n",
       "  </tbody>\n",
       "</table>\n",
       "</div>"
      ],
      "text/plain": [
       "   n_of_doses  n_of_occurences\n",
       "0           1          7100037\n",
       "1           2          1918442\n",
       "2           3           310710\n",
       "3           4            35770\n",
       "4           5             2924\n",
       "5           6              146\n",
       "6           7                3\n",
       "7         142                1"
      ]
     },
     "execution_count": 10,
     "metadata": {},
     "output_type": "execute_result"
    }
   ],
   "source": [
    "n_of_doses = pd.read_sql(\"\"\"SELECT n_of_doses, COUNT(*) AS n_of_occurences \n",
    "                            FROM (\n",
    "                                  SELECT COUNT(*) AS n_of_doses \n",
    "                                  FROM AwsDataCatalog.oficina.covid_vac_mg_1 \n",
    "                                  GROUP BY paciente_id\n",
    "                            )\n",
    "                            GROUP BY n_of_doses\n",
    "                            ORDER BY n_of_doses;\"\"\", conn)\n",
    "n_of_doses"
   ]
  },
  {
   "cell_type": "markdown",
   "id": "3ee3832e-935b-48a2-8086-3aa6ff51d1f2",
   "metadata": {},
   "source": [
    "Vemos que quase 40 mil pessoas receberam mais de 3 doses da vacina (pelo menos é o que os dados nos dizem). No entanto, notamos um baita problema nessa base quando vemos um indivíduo recebendo nada menos que 142 doses!\n",
    "\n",
    "Vamos plotar esses dados (o valor de 142 doses foi omitido para permitir uma visualização razoável do gráfico)."
   ]
  },
  {
   "cell_type": "code",
   "execution_count": 13,
   "id": "e68026d8-e65b-4781-8dcf-acd8bade1efb",
   "metadata": {
    "tags": []
   },
   "outputs": [
    {
     "data": {
      "image/png": "[encoded data removed]",
      "text/plain": [
       "<Figure size 640x480 with 1 Axes>"
      ]
     },
     "metadata": {},
     "output_type": "display_data"
    }
   ],
   "source": [
    "plt.bar(n_of_doses[\"n_of_doses\"][:-1], n_of_doses[\"n_of_occurences\"][:-1])\n",
    "plt.yscale(\"log\")\n",
    "plt.xlabel('N° of doses')\n",
    "plt.ylabel('N° of occurences')\n",
    "plt.title('N° of doses analysis')\n",
    "plt.show()"
   ]
  },
  {
   "cell_type": "markdown",
   "id": "14752578-d966-4b2b-a1d0-e91b7efd7dee",
   "metadata": {},
   "source": [
    "## 1 dose x 2 doses"
   ]
  },
  {
   "cell_type": "markdown",
   "id": "b51dec18-534c-4397-9908-6d6332c55288",
   "metadata": {},
   "source": [
    "Para determinar as quantidades de pessoas que tomaram a primeira e a segunda dose, precisamos agrupar os dados de acordo com os valores da coluna `vacina_descricao_dose`. No entanto, há um problema: não há um padrão totalmente estabelecido sobre como as informações dessa coluna estão descritas. Observe abaixo os valores únicos dessa coluna:"
   ]
  },
  {
   "cell_type": "code",
   "execution_count": 15,
   "id": "7e0dd6ee-6c2c-4b39-ba80-0a896bf92229",
   "metadata": {
    "tags": []
   },
   "outputs": [
    {
     "name": "stderr",
     "output_type": "stream",
     "text": [
      "/tmp/ipykernel_6797/799286449.py:1: UserWarning: pandas only supports SQLAlchemy connectable (engine/connection) or database string URI or sqlite3 DBAPI2 connection. Other DBAPI2 objects are not tested. Please consider using SQLAlchemy.\n",
      "  pd.read_sql(\"SELECT DISTINCT vacina_descricao_dose FROM AwsDataCatalog.oficina.covid_vac_mg_1;\", conn)\n"
     ]
    },
    {
     "data": {
      "text/html": [
       "<div>\n",
       "<style scoped>\n",
       "    .dataframe tbody tr th:only-of-type {\n",
       "        vertical-align: middle;\n",
       "    }\n",
       "\n",
       "    .dataframe tbody tr th {\n",
       "        vertical-align: top;\n",
       "    }\n",
       "\n",
       "    .dataframe thead th {\n",
       "        text-align: right;\n",
       "    }\n",
       "</style>\n",
       "<table border=\"1\" class=\"dataframe\">\n",
       "  <thead>\n",
       "    <tr style=\"text-align: right;\">\n",
       "      <th></th>\n",
       "      <th>vacina_descricao_dose</th>\n",
       "    </tr>\n",
       "  </thead>\n",
       "  <tbody>\n",
       "    <tr>\n",
       "      <th>0</th>\n",
       "      <td>5ª Dose Revacinação</td>\n",
       "    </tr>\n",
       "    <tr>\n",
       "      <th>1</th>\n",
       "      <td>4ª Dose Revacinação</td>\n",
       "    </tr>\n",
       "    <tr>\n",
       "      <th>2</th>\n",
       "      <td>Reforço</td>\n",
       "    </tr>\n",
       "    <tr>\n",
       "      <th>3</th>\n",
       "      <td>Dose Inicial</td>\n",
       "    </tr>\n",
       "    <tr>\n",
       "      <th>4</th>\n",
       "      <td>1ª Dose</td>\n",
       "    </tr>\n",
       "    <tr>\n",
       "      <th>5</th>\n",
       "      <td>3ª Dose</td>\n",
       "    </tr>\n",
       "    <tr>\n",
       "      <th>6</th>\n",
       "      <td></td>\n",
       "    </tr>\n",
       "    <tr>\n",
       "      <th>7</th>\n",
       "      <td>1º Reforço</td>\n",
       "    </tr>\n",
       "    <tr>\n",
       "      <th>8</th>\n",
       "      <td>Revacinação</td>\n",
       "    </tr>\n",
       "    <tr>\n",
       "      <th>9</th>\n",
       "      <td>2º Reforço</td>\n",
       "    </tr>\n",
       "    <tr>\n",
       "      <th>10</th>\n",
       "      <td>3º Reforço</td>\n",
       "    </tr>\n",
       "    <tr>\n",
       "      <th>11</th>\n",
       "      <td>1ª Dose Fracionada</td>\n",
       "    </tr>\n",
       "    <tr>\n",
       "      <th>12</th>\n",
       "      <td>3ª Dose Revacinação</td>\n",
       "    </tr>\n",
       "    <tr>\n",
       "      <th>13</th>\n",
       "      <td>Dose</td>\n",
       "    </tr>\n",
       "    <tr>\n",
       "      <th>14</th>\n",
       "      <td>Dose Adicional</td>\n",
       "    </tr>\n",
       "    <tr>\n",
       "      <th>15</th>\n",
       "      <td>2ª Dose Revacinação</td>\n",
       "    </tr>\n",
       "    <tr>\n",
       "      <th>16</th>\n",
       "      <td>1ª Dose Revacinação</td>\n",
       "    </tr>\n",
       "    <tr>\n",
       "      <th>17</th>\n",
       "      <td>2ª Dose</td>\n",
       "    </tr>\n",
       "    <tr>\n",
       "      <th>18</th>\n",
       "      <td>Única</td>\n",
       "    </tr>\n",
       "    <tr>\n",
       "      <th>19</th>\n",
       "      <td>4ª Dose</td>\n",
       "    </tr>\n",
       "  </tbody>\n",
       "</table>\n",
       "</div>"
      ],
      "text/plain": [
       "   vacina_descricao_dose\n",
       "0    5ª Dose Revacinação\n",
       "1    4ª Dose Revacinação\n",
       "2                Reforço\n",
       "3           Dose Inicial\n",
       "4                1ª Dose\n",
       "5                3ª Dose\n",
       "6                       \n",
       "7             1º Reforço\n",
       "8            Revacinação\n",
       "9             2º Reforço\n",
       "10            3º Reforço\n",
       "11    1ª Dose Fracionada\n",
       "12   3ª Dose Revacinação\n",
       "13                  Dose\n",
       "14        Dose Adicional\n",
       "15   2ª Dose Revacinação\n",
       "16   1ª Dose Revacinação\n",
       "17               2ª Dose\n",
       "18                 Única\n",
       "19               4ª Dose"
      ]
     },
     "execution_count": 15,
     "metadata": {},
     "output_type": "execute_result"
    }
   ],
   "source": [
    "pd.read_sql(\"SELECT DISTINCT vacina_descricao_dose FROM AwsDataCatalog.oficina.covid_vac_mg_1;\", conn)"
   ]
  },
  {
   "cell_type": "markdown",
   "id": "dec7c5ca-c810-428e-a2ed-dbd8698e2c59",
   "metadata": {},
   "source": [
    "Além de valores vazios, existem alguns nomes ambíguos, como \"Dose\" e \"Dose adicional\", tornando esse dado não tão preciso quanto gostaríamos. No entanto, ainda assim, com uma certa manipulação, ainda podemos fazer nossa análise. Depois de uma estudada nesses valores, classifiquei alguns como referentes à primeira dose da vacina e outros como referentes à segunda dose, agrupando todos esses rótulos em classes únicas. Dessa forma, abaixo está a consulta realizada."
   ]
  },
  {
   "cell_type": "code",
   "execution_count": 18,
   "id": "cf404649-58b5-4d88-9f7a-82b8d40e6dfc",
   "metadata": {
    "tags": []
   },
   "outputs": [
    {
     "name": "stderr",
     "output_type": "stream",
     "text": [
      "/tmp/ipykernel_6797/909191028.py:1: UserWarning: pandas only supports SQLAlchemy connectable (engine/connection) or database string URI or sqlite3 DBAPI2 connection. Other DBAPI2 objects are not tested. Please consider using SQLAlchemy.\n",
      "  doses_1x2 = pd.read_sql(\"\"\"SELECT\n"
     ]
    },
    {
     "data": {
      "text/html": [
       "<div>\n",
       "<style scoped>\n",
       "    .dataframe tbody tr th:only-of-type {\n",
       "        vertical-align: middle;\n",
       "    }\n",
       "\n",
       "    .dataframe tbody tr th {\n",
       "        vertical-align: top;\n",
       "    }\n",
       "\n",
       "    .dataframe thead th {\n",
       "        text-align: right;\n",
       "    }\n",
       "</style>\n",
       "<table border=\"1\" class=\"dataframe\">\n",
       "  <thead>\n",
       "    <tr style=\"text-align: right;\">\n",
       "      <th></th>\n",
       "      <th>supergroup</th>\n",
       "      <th>counting</th>\n",
       "    </tr>\n",
       "  </thead>\n",
       "  <tbody>\n",
       "    <tr>\n",
       "      <th>0</th>\n",
       "      <td>1° dose</td>\n",
       "      <td>4308618</td>\n",
       "    </tr>\n",
       "    <tr>\n",
       "      <th>1</th>\n",
       "      <td>2° dose</td>\n",
       "      <td>3434913</td>\n",
       "    </tr>\n",
       "  </tbody>\n",
       "</table>\n",
       "</div>"
      ],
      "text/plain": [
       "  supergroup  counting\n",
       "0    1° dose   4308618\n",
       "1    2° dose   3434913"
      ]
     },
     "execution_count": 18,
     "metadata": {},
     "output_type": "execute_result"
    }
   ],
   "source": [
    "doses_1x2 = pd.read_sql(\"\"\"SELECT\n",
    "                               CASE\n",
    "                                   WHEN vacina_descricao_dose IN ('Dose Inicial', 'Única', '1ª Dose', '1ª Dose Fracionada') THEN '1° dose'\n",
    "                                   WHEN vacina_descricao_dose IN ('2ª Dose') THEN '2° dose'\n",
    "                               END AS supergroup, \n",
    "                               COUNT(*) AS counting\n",
    "                            FROM AwsDataCatalog.oficina.covid_vac_mg_1\n",
    "                            WHERE vacina_descricao_dose IN ('Dose Inicial', 'Única', '1ª Dose', '1ª Dose Fracionada', '2ª Dose')\n",
    "                            GROUP BY\n",
    "                                CASE\n",
    "                                   WHEN vacina_descricao_dose IN ('Dose Inicial', 'Única', '1ª Dose', '1ª Dose Fracionada') THEN '1° dose'\n",
    "                                   WHEN vacina_descricao_dose IN ('2ª Dose') THEN '2° dose'\n",
    "                                END\n",
    "                            ORDER BY counting DESC;\"\"\", conn)\n",
    "\n",
    "doses_1x2"
   ]
  },
  {
   "cell_type": "markdown",
   "id": "33f47ee5-e4af-4bce-8d93-34d979db6266",
   "metadata": {},
   "source": [
    "Nota-se que o número de vacinados com a primeira dose é maior que o de vacinados com a segunda dose. No entanto, essa diferença é relativamente pequena, dando a entender que a maioria das pessoas que tomaram a primeira dose foram atrás de tomar a segunda também.\n",
    "\n",
    "Vamos ver isso num gráfico."
   ]
  },
  {
   "cell_type": "code",
   "execution_count": 19,
   "id": "65c9dad1-6e70-4bb6-9188-792c6de36939",
   "metadata": {
    "tags": []
   },
   "outputs": [
    {
     "data": {
      "image/png": "[encoded data removed]",
      "text/plain": [
       "<Figure size 640x480 with 1 Axes>"
      ]
     },
     "metadata": {},
     "output_type": "display_data"
    }
   ],
   "source": [
    "plt.bar(doses_1x2[\"supergroup\"], doses_1x2[\"counting\"])\n",
    "plt.xlabel('Dose')\n",
    "plt.ylabel('N° of vaccinated')\n",
    "plt.title('1° x 2° dose analysis')\n",
    "plt.show()"
   ]
  },
  {
   "cell_type": "markdown",
   "id": "16a17bbe-099c-4bef-836f-5c03793117ad",
   "metadata": {
    "tags": []
   },
   "source": [
    "## Vacinados por município"
   ]
  },
  {
   "cell_type": "markdown",
   "id": "c6ad26cf-cc14-43aa-91cd-f1300d8efb1f",
   "metadata": {},
   "source": [
    "Por fim, vamos descobrir a porcentagem de vacinados por município. Para essa análise, decidi considerar apenas os munícipios da base, ou seja, os municípios que receberam pacientes para vacinar, e não os municípios que tiveram alguém vacinado nessa cidade. Se fizesse o segundo, muitos municípios apareceriam com porcentagens pequenas, já que poucos de seus habitantes devem ter vindo para essas cidades da base para se vacinar. Assim, essa se tornou uma análise de quantas pessoas dessa região se vacinaram nessa mesma região, medido percentualmente para cada um de seus municípios. Além disso, foi considerado que, se uma pessoa tomou qualquer dose da vacina, ela foi vacinada. Com isso, foram pegos apenas os valores distintos de pacientes para não acontecer a contagem de pacientes mais de uma vez.\n",
    "\n",
    "Feita a explicação, abaixo está o código da consulta referente a essa análise. Depois de muitos problemas com formatação, floats e parênteses, o código está funcionando."
   ]
  },
  {
   "cell_type": "code",
   "execution_count": 117,
   "id": "389a5c28-98c0-4a2c-93e9-943a11a7afc2",
   "metadata": {
    "tags": []
   },
   "outputs": [
    {
     "name": "stderr",
     "output_type": "stream",
     "text": [
      "/tmp/ipykernel_6797/2933896185.py:1: UserWarning: pandas only supports SQLAlchemy connectable (engine/connection) or database string URI or sqlite3 DBAPI2 connection. Other DBAPI2 objects are not tested. Please consider using SQLAlchemy.\n",
      "  vaccinated_per_city = pd.read_sql(\"\"\"SELECT m.nome_do_munic_pio,\n"
     ]
    },
    {
     "data": {
      "text/html": [
       "<div>\n",
       "<style scoped>\n",
       "    .dataframe tbody tr th:only-of-type {\n",
       "        vertical-align: middle;\n",
       "    }\n",
       "\n",
       "    .dataframe tbody tr th {\n",
       "        vertical-align: top;\n",
       "    }\n",
       "\n",
       "    .dataframe thead th {\n",
       "        text-align: right;\n",
       "    }\n",
       "</style>\n",
       "<table border=\"1\" class=\"dataframe\">\n",
       "  <thead>\n",
       "    <tr style=\"text-align: right;\">\n",
       "      <th></th>\n",
       "      <th>nome_do_munic_pio</th>\n",
       "      <th>percentual_vacinados</th>\n",
       "    </tr>\n",
       "  </thead>\n",
       "  <tbody>\n",
       "    <tr>\n",
       "      <th>0</th>\n",
       "      <td>Patrocínio do Muriaé</td>\n",
       "      <td>682.016017</td>\n",
       "    </tr>\n",
       "    <tr>\n",
       "      <th>1</th>\n",
       "      <td>Confins</td>\n",
       "      <td>81.112567</td>\n",
       "    </tr>\n",
       "    <tr>\n",
       "      <th>2</th>\n",
       "      <td>Jeceaba</td>\n",
       "      <td>76.579771</td>\n",
       "    </tr>\n",
       "    <tr>\n",
       "      <th>3</th>\n",
       "      <td>Conceição do Mato Dentro</td>\n",
       "      <td>71.080399</td>\n",
       "    </tr>\n",
       "    <tr>\n",
       "      <th>4</th>\n",
       "      <td>Olaria</td>\n",
       "      <td>70.484061</td>\n",
       "    </tr>\n",
       "    <tr>\n",
       "      <th>...</th>\n",
       "      <td>...</td>\n",
       "      <td>...</td>\n",
       "    </tr>\n",
       "    <tr>\n",
       "      <th>848</th>\n",
       "      <td>Padre Carvalho</td>\n",
       "      <td>29.771110</td>\n",
       "    </tr>\n",
       "    <tr>\n",
       "      <th>849</th>\n",
       "      <td>Matias Cardoso</td>\n",
       "      <td>28.926056</td>\n",
       "    </tr>\n",
       "    <tr>\n",
       "      <th>850</th>\n",
       "      <td>Soledade de Minas</td>\n",
       "      <td>28.348860</td>\n",
       "    </tr>\n",
       "    <tr>\n",
       "      <th>851</th>\n",
       "      <td>São Romão</td>\n",
       "      <td>25.548651</td>\n",
       "    </tr>\n",
       "    <tr>\n",
       "      <th>852</th>\n",
       "      <td>Urucuia</td>\n",
       "      <td>24.115627</td>\n",
       "    </tr>\n",
       "  </tbody>\n",
       "</table>\n",
       "<p>853 rows × 2 columns</p>\n",
       "</div>"
      ],
      "text/plain": [
       "            nome_do_munic_pio  percentual_vacinados\n",
       "0        Patrocínio do Muriaé            682.016017\n",
       "1                     Confins             81.112567\n",
       "2                     Jeceaba             76.579771\n",
       "3    Conceição do Mato Dentro             71.080399\n",
       "4                      Olaria             70.484061\n",
       "..                        ...                   ...\n",
       "848            Padre Carvalho             29.771110\n",
       "849            Matias Cardoso             28.926056\n",
       "850         Soledade de Minas             28.348860\n",
       "851                 São Romão             25.548651\n",
       "852                   Urucuia             24.115627\n",
       "\n",
       "[853 rows x 2 columns]"
      ]
     },
     "execution_count": 117,
     "metadata": {},
     "output_type": "execute_result"
    }
   ],
   "source": [
    "vaccinated_per_city = pd.read_sql(\"\"\"SELECT m.nome_do_munic_pio,\n",
    "                                     CASE\n",
    "                                         WHEN POSITION('(' IN m.popula__o_estimada) > 0 THEN\n",
    "                                             (COUNT(DISTINCT v.paciente_id) / CAST(SUBSTRING(REPLACE(m.popula__o_estimada, '.', ''), 1, POSITION('(' IN REPLACE(m.popula__o_estimada, '.', '')) - 1) AS DOUBLE)) * 100\n",
    "                                         ELSE\n",
    "                                             (COUNT(DISTINCT v.paciente_id) / CAST(REPLACE(m.popula__o_estimada, '.', '') AS DOUBLE)) * 100\n",
    "                                     END AS percentual_vacinados\n",
    "                                     FROM AwsDataCatalog.oficina.municipios m\n",
    "                                     INNER JOIN AwsDataCatalog.oficina.covid_vac_mg_1 v \n",
    "                                         ON (CAST(m.cod__uf AS VARCHAR) || SUBSTRING(CAST(m.cod__munic AS VARCHAR) FROM 1 FOR 4)) = v.estabelecimento_municipio_codigo\n",
    "                                     GROUP BY m.nome_do_munic_pio, m.popula__o_estimada\n",
    "                                     ORDER BY percentual_vacinados DESC;\"\"\", conn)\n",
    "\n",
    "vaccinated_per_city"
   ]
  },
  {
   "cell_type": "markdown",
   "id": "7cc4ca0b-0c9b-496d-9662-dd5f5e35197b",
   "metadata": {},
   "source": [
    "Obviamente, temos um dado incorreto. Se não fosse, Patrocínio do Muriaé teria vacinado quase 7 vezes o seu número de habitantes, isso considerando apenas pessoas que são dessa cidade.\n",
    "\n",
    "Vamos observar esses dados graficamente com um histograma, desconsiderando, é claro, nosso erro."
   ]
  },
  {
   "cell_type": "code",
   "execution_count": 122,
   "id": "f237565f-c3db-44ab-b24c-125b6652cd09",
   "metadata": {
    "tags": []
   },
   "outputs": [
    {
     "data": {
      "image/png": "[encoded data removed]",
      "text/plain": [
       "<Figure size 640x480 with 1 Axes>"
      ]
     },
     "metadata": {},
     "output_type": "display_data"
    }
   ],
   "source": [
    "plt.hist(vaccinated_per_city[\"percentual_vacinados\"].drop(0))\n",
    "plt.xlabel('Vaccinated (%)')\n",
    "plt.ylabel('N° of cities')\n",
    "plt.title('Vaccinated per city analysis')\n",
    "plt.show()"
   ]
  }
 ],
 "metadata": {
  "kernelspec": {
   "display_name": "conda_pytorch_p310",
   "language": "python",
   "name": "conda_pytorch_p310"
  },
  "language_info": {
   "codemirror_mode": {
    "name": "ipython",
    "version": 3
   },
   "file_extension": ".py",
   "mimetype": "text/x-python",
   "name": "python",
   "nbconvert_exporter": "python",
   "pygments_lexer": "ipython3",
   "version": "3.10.14"
  }
 },
 "nbformat": 4,
 "nbformat_minor": 5
}
